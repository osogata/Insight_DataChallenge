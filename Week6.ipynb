{
 "cells": [
  {
   "cell_type": "markdown",
   "metadata": {},
   "source": [
    "# Data Challenge: Happy Hotel"
   ]
  },
  {
   "cell_type": "markdown",
   "metadata": {},
   "source": [
    "Step 1: importing and cleaning data"
   ]
  },
  {
   "cell_type": "code",
   "execution_count": 2,
   "metadata": {},
   "outputs": [],
   "source": [
    "# import packages to be used\n",
    "\n",
    "import os\n",
    "import pandas as pd\n",
    "import numpy as np\n",
    "import matplotlib.pyplot as plt\n",
    "import seaborn as sns"
   ]
  },
  {
   "cell_type": "code",
   "execution_count": 89,
   "metadata": {},
   "outputs": [
    {
     "name": "stdout",
     "output_type": "stream",
     "text": [
      "<class 'pandas.core.frame.DataFrame'>\n",
      "RangeIndex: 26521 entries, 0 to 26520\n",
      "Data columns (total 4 columns):\n",
      "User_ID        26521 non-null object\n",
      "Description    26521 non-null object\n",
      "Is_Response    26521 non-null object\n",
      "hotel_ID       26521 non-null int64\n",
      "dtypes: int64(1), object(3)\n",
      "memory usage: 828.9+ KB\n",
      "<class 'pandas.core.frame.DataFrame'>\n",
      "RangeIndex: 12411 entries, 0 to 12410\n",
      "Data columns (total 4 columns):\n",
      "User_ID        12411 non-null object\n",
      "Description    12411 non-null object\n",
      "Is_Response    12411 non-null object\n",
      "hotel_ID       12411 non-null int64\n",
      "dtypes: int64(1), object(3)\n",
      "memory usage: 388.0+ KB\n"
     ]
    }
   ],
   "source": [
    "## loading data\n",
    "\n",
    "os.getcwd()\n",
    "os.chdir('C:/Users/Huajun/Desktop/Data challenge/')\n",
    "file = 'hotel_happy_reviews.csv'\n",
    "data = pd.read_csv(file)\n",
    "data.info()\n",
    "\n",
    "file2 = 'hotel_not_happy_reviews.csv'\n",
    "data2 = pd.read_csv(file2)\n",
    "data2.info()"
   ]
  },
  {
   "cell_type": "code",
   "execution_count": 90,
   "metadata": {},
   "outputs": [
    {
     "name": "stdout",
     "output_type": "stream",
     "text": [
      "26521\n",
      "10\n",
      "26521\n",
      "12411\n",
      "10\n",
      "12411\n"
     ]
    }
   ],
   "source": [
    "## Cleaning data\n",
    "# check for unique values\n",
    "print(len(data['User_ID'].unique()))\n",
    "print(len(data['hotel_ID'].unique()))\n",
    "print(len(data['Description'].unique()))\n",
    "\n",
    "print(len(data2['User_ID'].unique()))\n",
    "print(len(data2['hotel_ID'].unique()))\n",
    "print(len(data2['Description'].unique()))"
   ]
  },
  {
   "cell_type": "code",
   "execution_count": 91,
   "metadata": {},
   "outputs": [
    {
     "name": "stdout",
     "output_type": "stream",
     "text": [
      "happy    26521\n",
      "Name: Is_Response, dtype: int64\n",
      "not happy    12411\n",
      "Name: Is_Response, dtype: int64\n"
     ]
    }
   ],
   "source": [
    "print(data['Is_Response'].value_counts())\n",
    "print(data2['Is_Response'].value_counts())"
   ]
  },
  {
   "cell_type": "code",
   "execution_count": 92,
   "metadata": {},
   "outputs": [
    {
     "name": "stdout",
     "output_type": "stream",
     "text": [
      "<class 'pandas.core.frame.DataFrame'>\n",
      "Int64Index: 38932 entries, 0 to 12410\n",
      "Data columns (total 4 columns):\n",
      "User_ID        38932 non-null object\n",
      "Description    38932 non-null object\n",
      "Is_Response    38932 non-null object\n",
      "hotel_ID       38932 non-null int64\n",
      "dtypes: int64(1), object(3)\n",
      "memory usage: 1.5+ MB\n"
     ]
    }
   ],
   "source": [
    "## appending two data files together\n",
    "\n",
    "data = data.append(data2)\n",
    "data.info()"
   ]
  },
  {
   "cell_type": "code",
   "execution_count": 7,
   "metadata": {},
   "outputs": [
    {
     "name": "stdout",
     "output_type": "stream",
     "text": [
      "38932\n",
      "10\n",
      "38932\n"
     ]
    }
   ],
   "source": [
    "# double check again for unique values\n",
    "\n",
    "print(len(data['User_ID'].unique()))\n",
    "print(len(data['hotel_ID'].unique()))\n",
    "print(len(data['Description'].unique()))"
   ]
  },
  {
   "cell_type": "code",
   "execution_count": 8,
   "metadata": {},
   "outputs": [
    {
     "name": "stdout",
     "output_type": "stream",
     "text": [
      "happy        26521\n",
      "not happy    12411\n",
      "Name: Is_Response, dtype: int64\n"
     ]
    }
   ],
   "source": [
    "print(data['Is_Response'].value_counts())"
   ]
  },
  {
   "cell_type": "markdown",
   "metadata": {},
   "source": [
    "Step 2: Identify topics within hotel reviews"
   ]
  },
  {
   "cell_type": "code",
   "execution_count": 34,
   "metadata": {},
   "outputs": [],
   "source": [
    "# import packages to be used\n",
    "import re\n",
    "from sklearn.feature_extraction.text import CountVectorizer\n",
    "from sklearn.decomposition import LatentDirichletAllocation as LDA\n",
    "import gensim\n",
    "from gensim import corpora, models\n",
    "from nltk.corpus import stopwords"
   ]
  },
  {
   "cell_type": "code",
   "execution_count": 10,
   "metadata": {},
   "outputs": [
    {
     "data": {
      "text/plain": [
       "0     Stayed here with husband and sons on the way t...\n",
       "1     We had - rooms. One was very nice and clearly ...\n",
       "2     My wife & I stayed in this glorious city a whi...\n",
       "3     My boyfriend and I stayed at the Fairmont on a...\n",
       "4     Steps off Times Square, nice rooms, stayed - n...\n",
       "5     Me, the Wife and - kids stayed here on Valenti...\n",
       "6     I highly recommend the Hawthorne Terrace as an...\n",
       "7     I found the hotel clean and nicely located. Go...\n",
       "8     Stayed at the Elan from --th to --th October a...\n",
       "9     We stayed here for - nights and were really ha...\n",
       "10    This is everything you could want from a hotel...\n",
       "11    I really liked this hotel. The staff were wond...\n",
       "12    My wife and spent - days there this month as a...\n",
       "13    Took a girls trip to LA and had no idea where ...\n",
       "14    Stayed with my girlfriend for a long weekend. ...\n",
       "15    I have stayed here numerous times and never be...\n",
       "16    I really liked this hotel alot. \\r\\nStaff was ...\n",
       "17    We could easily have stayed here for longer on...\n",
       "18    I booked three nights at the Inn at El Gaucho ...\n",
       "19    Looking for a tranquil retreat in Denver that ...\n",
       "Name: Description, dtype: object"
      ]
     },
     "execution_count": 10,
     "metadata": {},
     "output_type": "execute_result"
    }
   ],
   "source": [
    "data['Description'][:20]"
   ]
  },
  {
   "cell_type": "code",
   "execution_count": 11,
   "metadata": {},
   "outputs": [
    {
     "data": {
      "text/plain": [
       "0     stayed here with husband and sons on the way t...\n",
       "1     we had - rooms one was very nice and clearly h...\n",
       "2     my wife  i stayed in this glorious city a whil...\n",
       "3     my boyfriend and i stayed at the fairmont on a...\n",
       "4     steps off times square nice rooms stayed - nig...\n",
       "5     me the wife and - kids stayed here on valentin...\n",
       "6     i highly recommend the hawthorne terrace as an...\n",
       "7     i found the hotel clean and nicely located goo...\n",
       "8     stayed at the elan from --th to --th october a...\n",
       "9     we stayed here for - nights and were really ha...\n",
       "10    this is everything you could want from a hotel...\n",
       "11    i really liked this hotel the staff were wonde...\n",
       "12    my wife and spent - days there this month as a...\n",
       "13    took a girls trip to la and had no idea where ...\n",
       "14    stayed with my girlfriend for a long weekend \\...\n",
       "15    i have stayed here numerous times and never be...\n",
       "16    i really liked this hotel alot \\r\\nstaff was e...\n",
       "17    we could easily have stayed here for longer on...\n",
       "18    i booked three nights at the inn at el gaucho ...\n",
       "19    looking for a tranquil retreat in denver that ...\n",
       "Name: Description, dtype: object"
      ]
     },
     "execution_count": 11,
     "metadata": {},
     "output_type": "execute_result"
    }
   ],
   "source": [
    "# preprocess texts in reviews\n",
    "data['Description'] = data['Description'].map(lambda x: re.sub('[,\\.!?&]', '', x))\n",
    "data['Description'] = data['Description'].map(lambda x: x.lower())\n",
    "data['Description'][:20]"
   ]
  },
  {
   "cell_type": "code",
   "execution_count": 27,
   "metadata": {},
   "outputs": [],
   "source": [
    "# plotting the top 20 most common words within these reviews (not differentiating happy or not for now)\n",
    "\n",
    "def plot_20_most_common_words(count_data, count_vectorizer):\n",
    "    words = count_vectorizer.get_feature_names()\n",
    "    total_counts = np.zeros(len(words))\n",
    "    for t in count_data:\n",
    "        total_counts+=t.toarray()[0]\n",
    "\n",
    "    count_dict = (zip(words, total_counts))\n",
    "    count_dict = sorted(count_dict, key=lambda x:x[1], reverse=True)[0:20]\n",
    "    words = [w[0] for w in count_dict]\n",
    "    counts = [w[1] for w in count_dict]\n",
    "    x_pos = np.arange(len(words)) \n",
    "\n",
    "    plt.figure(2, figsize=(15, 15/1.6180))\n",
    "    plt.subplot(title='20 most common words')\n",
    "    sns.set_context(\"notebook\", font_scale=1.25, rc={\"lines.linewidth\": 2.5})\n",
    "    sns.barplot(x_pos, counts, palette='husl')\n",
    "    plt.xticks(x_pos, words, rotation=90) \n",
    "    plt.xlabel('words')\n",
    "    plt.ylabel('counts')\n",
    "    plt.show()"
   ]
  },
  {
   "cell_type": "code",
   "execution_count": 28,
   "metadata": {},
   "outputs": [
    {
     "data": {
      "image/png": "[encoded data removed]",
      "text/plain": [
       "<Figure size 1080x667.491 with 1 Axes>"
      ]
     },
     "metadata": {
      "needs_background": "light"
     },
     "output_type": "display_data"
    }
   ],
   "source": [
    "# remove stopwords and plot the top common words\n",
    "count_vectorizer = CountVectorizer(stop_words='english')\n",
    "count_data = count_vectorizer.fit_transform(data['Description'])\n",
    "plot_20_most_common_words(count_data, count_vectorizer)"
   ]
  },
  {
   "cell_type": "code",
   "execution_count": 43,
   "metadata": {},
   "outputs": [
    {
     "name": "stderr",
     "output_type": "stream",
     "text": [
      "[nltk_data] Downloading package stopwords to\n",
      "[nltk_data]     C:\\Users\\Huajun\\AppData\\Roaming\\nltk_data...\n",
      "[nltk_data]   Package stopwords is already up-to-date!\n"
     ]
    }
   ],
   "source": [
    "import nltk\n",
    "nltk.download('stopwords')\n",
    "list_stopwords = stopwords.words('English')"
   ]
  },
  {
   "cell_type": "code",
   "execution_count": 44,
   "metadata": {},
   "outputs": [
    {
     "data": {
      "text/plain": [
       "['i', 'me', 'my', 'myself', 'we', 'our', 'ours', 'ourselves', 'you', \"you're\"]"
      ]
     },
     "execution_count": 44,
     "metadata": {},
     "output_type": "execute_result"
    }
   ],
   "source": [
    "list_stopwords[0:10]"
   ]
  },
  {
   "cell_type": "code",
   "execution_count": 47,
   "metadata": {},
   "outputs": [
    {
     "data": {
      "text/plain": [
       "0    [stayed, here, with, husband, and, sons, on, t...\n",
       "0    [the, room, was, kind, of, clean, but, had, a,...\n",
       "Name: tokenized_des, dtype: object"
      ]
     },
     "execution_count": 47,
     "metadata": {},
     "output_type": "execute_result"
    }
   ],
   "source": [
    "data['tokenized_des'] = data['Description'].apply(lambda x: x.split())\n",
    "data['tokenized_des'][0]"
   ]
  },
  {
   "cell_type": "code",
   "execution_count": 49,
   "metadata": {},
   "outputs": [
    {
     "data": {
      "text/plain": [
       "0    [stayed, husband, sons, way, alaska, cruise, l...\n",
       "0    [room, kind, clean, strong, smell, dogs, gener...\n",
       "Name: tokenized_des, dtype: object"
      ]
     },
     "execution_count": 49,
     "metadata": {},
     "output_type": "execute_result"
    }
   ],
   "source": [
    "data['tokenized_des'] = data['tokenized_des'].map(lambda tokens: [token.lower() for token in tokens if token.isalpha() \n",
    "                                                    and token.lower() not in list_stopwords and len(token)>1])\n",
    "\n",
    "data['tokenized_des'][0]"
   ]
  },
  {
   "cell_type": "code",
   "execution_count": 50,
   "metadata": {},
   "outputs": [
    {
     "data": {
      "text/plain": [
       "['stayed',\n",
       " 'husband',\n",
       " 'sons',\n",
       " 'way',\n",
       " 'alaska',\n",
       " 'cruise',\n",
       " 'loved',\n",
       " 'hotel',\n",
       " 'great',\n",
       " 'experience',\n",
       " 'ask',\n",
       " 'room',\n",
       " 'north',\n",
       " 'tower',\n",
       " 'facing',\n",
       " 'north',\n",
       " 'west',\n",
       " 'best',\n",
       " 'views',\n",
       " 'high',\n",
       " 'floor',\n",
       " 'stunning',\n",
       " 'view',\n",
       " 'needle',\n",
       " 'city',\n",
       " 'even',\n",
       " 'cruise',\n",
       " 'ships',\n",
       " 'ordered',\n",
       " 'room',\n",
       " 'service',\n",
       " 'dinner',\n",
       " 'could',\n",
       " 'enjoy',\n",
       " 'perfect',\n",
       " 'views',\n",
       " 'room',\n",
       " 'service',\n",
       " 'dinners',\n",
       " 'delicious',\n",
       " 'perfect',\n",
       " 'spot',\n",
       " 'walk',\n",
       " 'everywhere',\n",
       " 'enjoy',\n",
       " 'city',\n",
       " 'almost',\n",
       " 'heavenly',\n",
       " 'beds',\n",
       " 'heavenly']"
      ]
     },
     "execution_count": 50,
     "metadata": {},
     "output_type": "execute_result"
    }
   ],
   "source": [
    "tokens = data['tokenized_des'].to_list()\n",
    "tokens[0]"
   ]
  },
  {
   "cell_type": "code",
   "execution_count": 51,
   "metadata": {},
   "outputs": [],
   "source": [
    "dictionary_LDA = corpora.Dictionary(tokens)\n",
    "dictionary_LDA.filter_extremes(no_below=3)\n",
    "corpus = [dictionary_LDA.doc2bow(token) for token in tokens]"
   ]
  },
  {
   "cell_type": "code",
   "execution_count": 54,
   "metadata": {},
   "outputs": [
    {
     "name": "stdout",
     "output_type": "stream",
     "text": [
      "Wall time: 2min 40s\n"
     ]
    }
   ],
   "source": [
    "num_topics = 10\n",
    "%time lda_model = models.LdaModel(corpus, num_topics=num_topics, \\\n",
    "                                  id2word=dictionary_LDA, \\\n",
    "                                  passes=4, alpha=[0.01]*num_topics, \\\n",
    "                                  eta=[0.01]*len(dictionary_LDA.keys()))"
   ]
  },
  {
   "cell_type": "code",
   "execution_count": 55,
   "metadata": {},
   "outputs": [
    {
     "data": {
      "text/plain": [
       "[(0,\n",
       "  '0.018*\"pool\" + 0.016*\"service\" + 0.013*\"business\" + 0.012*\"rooms\" + 0.010*\"property\" + 0.010*\"center\" + 0.010*\"good\" + 0.010*\"food\" + 0.009*\"area\" + 0.009*\"one\"'),\n",
       " (1,\n",
       "  '0.027*\"great\" + 0.025*\"san\" + 0.015*\"view\" + 0.014*\"stay\" + 0.011*\"place\" + 0.009*\"francisco\" + 0.009*\"stayed\" + 0.009*\"really\" + 0.008*\"pool\" + 0.008*\"diego\"'),\n",
       " (2,\n",
       "  '0.065*\"breakfast\" + 0.026*\"coffee\" + 0.015*\"inn\" + 0.015*\"good\" + 0.015*\"free\" + 0.012*\"clean\" + 0.010*\"staff\" + 0.009*\"morning\" + 0.009*\"continental\" + 0.009*\"buffet\"'),\n",
       " (3,\n",
       "  '0.019*\"location\" + 0.015*\"walk\" + 0.013*\"square\" + 0.013*\"great\" + 0.012*\"street\" + 0.011*\"good\" + 0.009*\"walking\" + 0.009*\"times\" + 0.009*\"rooms\" + 0.008*\"clean\"'),\n",
       " (4,\n",
       "  '0.023*\"bathroom\" + 0.022*\"bed\" + 0.018*\"nice\" + 0.016*\"small\" + 0.013*\"tv\" + 0.013*\"shower\" + 0.012*\"lobby\" + 0.010*\"area\" + 0.009*\"floor\" + 0.009*\"large\"'),\n",
       " (5,\n",
       "  '0.030*\"desk\" + 0.029*\"us\" + 0.028*\"front\" + 0.019*\"staff\" + 0.013*\"stay\" + 0.013*\"service\" + 0.010*\"went\" + 0.009*\"manager\" + 0.008*\"back\" + 0.008*\"time\"'),\n",
       " (6,\n",
       "  '0.028*\"parking\" + 0.022*\"good\" + 0.019*\"nice\" + 0.016*\"free\" + 0.016*\"clean\" + 0.015*\"location\" + 0.014*\"stay\" + 0.013*\"rooms\" + 0.012*\"price\" + 0.012*\"night\"'),\n",
       " (7,\n",
       "  '0.012*\"one\" + 0.011*\"would\" + 0.009*\"stay\" + 0.009*\"night\" + 0.009*\"like\" + 0.007*\"could\" + 0.007*\"rooms\" + 0.007*\"get\" + 0.006*\"bed\" + 0.006*\"even\"'),\n",
       " (8,\n",
       "  '0.039*\"staff\" + 0.025*\"stay\" + 0.024*\"great\" + 0.023*\"location\" + 0.019*\"friendly\" + 0.018*\"rooms\" + 0.017*\"stayed\" + 0.016*\"clean\" + 0.014*\"helpful\" + 0.013*\"would\"'),\n",
       " (9,\n",
       "  '0.020*\"us\" + 0.016*\"told\" + 0.013*\"would\" + 0.012*\"check\" + 0.011*\"get\" + 0.010*\"booked\" + 0.009*\"back\" + 0.009*\"day\" + 0.008*\"arrived\" + 0.008*\"night\"')]"
      ]
     },
     "execution_count": 55,
     "metadata": {},
     "output_type": "execute_result"
    }
   ],
   "source": [
    "lda_model.print_topics()"
   ]
  },
  {
   "cell_type": "code",
   "execution_count": 57,
   "metadata": {},
   "outputs": [
    {
     "data": {
      "text/plain": [
       "[(1, 0.9357082), (3, 0.062555656)]"
      ]
     },
     "execution_count": 57,
     "metadata": {},
     "output_type": "execute_result"
    }
   ],
   "source": [
    "lda_model[corpus[0]]\n",
    "\n",
    "# first corpus description is 93.6% about topic 1 and 6.3% about topic 3"
   ]
  },
  {
   "cell_type": "markdown",
   "metadata": {},
   "source": [
    "Step 3: Allocation of topics in all descriptions/reviews"
   ]
  },
  {
   "cell_type": "code",
   "execution_count": 59,
   "metadata": {},
   "outputs": [
    {
     "name": "stdout",
     "output_type": "stream",
     "text": [
      "Wall time: 33.8 s\n"
     ]
    },
    {
     "data": {
      "text/plain": [
       "38932"
      ]
     },
     "execution_count": 59,
     "metadata": {},
     "output_type": "execute_result"
    }
   ],
   "source": [
    "%%time\n",
    "topics = [lda_model[corpus[i]] for i in range(len(data))]\n",
    "len(topics)"
   ]
  },
  {
   "cell_type": "code",
   "execution_count": 67,
   "metadata": {},
   "outputs": [
    {
     "data": {
      "text/html": [
       "<div>\n",
       "<style scoped>\n",
       "    .dataframe tbody tr th:only-of-type {\n",
       "        vertical-align: middle;\n",
       "    }\n",
       "\n",
       "    .dataframe tbody tr th {\n",
       "        vertical-align: top;\n",
       "    }\n",
       "\n",
       "    .dataframe thead th {\n",
       "        text-align: right;\n",
       "    }\n",
       "</style>\n",
       "<table border=\"1\" class=\"dataframe\">\n",
       "  <thead>\n",
       "    <tr style=\"text-align: right;\">\n",
       "      <th></th>\n",
       "      <th>0</th>\n",
       "      <th>1</th>\n",
       "      <th>2</th>\n",
       "      <th>3</th>\n",
       "      <th>4</th>\n",
       "      <th>5</th>\n",
       "      <th>6</th>\n",
       "      <th>7</th>\n",
       "      <th>8</th>\n",
       "      <th>9</th>\n",
       "    </tr>\n",
       "  </thead>\n",
       "  <tbody>\n",
       "    <tr>\n",
       "      <td>0</td>\n",
       "      <td>NaN</td>\n",
       "      <td>NaN</td>\n",
       "      <td>0.0385366</td>\n",
       "      <td>NaN</td>\n",
       "      <td>NaN</td>\n",
       "      <td>0.0913012</td>\n",
       "      <td>NaN</td>\n",
       "      <td>NaN</td>\n",
       "      <td>0.869287</td>\n",
       "      <td>NaN</td>\n",
       "    </tr>\n",
       "  </tbody>\n",
       "</table>\n",
       "</div>"
      ],
      "text/plain": [
       "     0    1          2    3    4          5    6    7         8    9\n",
       "0  NaN  NaN  0.0385366  NaN  NaN  0.0913012  NaN  NaN  0.869287  NaN"
      ]
     },
     "execution_count": 67,
     "metadata": {},
     "output_type": "execute_result"
    }
   ],
   "source": [
    "# define function to create df where topics as columns and rows as input document\n",
    "\n",
    "def topics_document_to_dataframe(topics_document, num_topics):\n",
    "    res = pd.DataFrame(columns=range(num_topics))\n",
    "    for topic_weight in topics_document:\n",
    "        res.loc[0, topic_weight[0]] = topic_weight[1]\n",
    "    return res\n",
    "\n",
    "topics_document_to_dataframe([(2, 0.03853655432967504), (5, 0.09130117862212643), (8, 0.8692868808484044)], 10)"
   ]
  },
  {
   "cell_type": "code",
   "execution_count": 62,
   "metadata": {},
   "outputs": [],
   "source": [
    "# create a matrix of topic weighting, with documents as rows and topics as columns\n",
    "document_topic = \\\n",
    "pd.concat([topics_document_to_dataframe(topics_document, num_topics=num_topics) for topics_document in topics]) \\\n",
    "  .reset_index(drop=True).fillna(0)"
   ]
  },
  {
   "cell_type": "code",
   "execution_count": 63,
   "metadata": {},
   "outputs": [
    {
     "data": {
      "text/html": [
       "<div>\n",
       "<style scoped>\n",
       "    .dataframe tbody tr th:only-of-type {\n",
       "        vertical-align: middle;\n",
       "    }\n",
       "\n",
       "    .dataframe tbody tr th {\n",
       "        vertical-align: top;\n",
       "    }\n",
       "\n",
       "    .dataframe thead th {\n",
       "        text-align: right;\n",
       "    }\n",
       "</style>\n",
       "<table border=\"1\" class=\"dataframe\">\n",
       "  <thead>\n",
       "    <tr style=\"text-align: right;\">\n",
       "      <th></th>\n",
       "      <th>0</th>\n",
       "      <th>1</th>\n",
       "      <th>2</th>\n",
       "      <th>3</th>\n",
       "      <th>4</th>\n",
       "      <th>5</th>\n",
       "      <th>6</th>\n",
       "      <th>7</th>\n",
       "      <th>8</th>\n",
       "      <th>9</th>\n",
       "    </tr>\n",
       "  </thead>\n",
       "  <tbody>\n",
       "    <tr>\n",
       "      <td>0</td>\n",
       "      <td>0.0</td>\n",
       "      <td>0.935692</td>\n",
       "      <td>0.000000</td>\n",
       "      <td>0.062572</td>\n",
       "      <td>0.000000</td>\n",
       "      <td>0.000000</td>\n",
       "      <td>0.000000</td>\n",
       "      <td>0.000000</td>\n",
       "      <td>0.000000</td>\n",
       "      <td>0.000000</td>\n",
       "    </tr>\n",
       "    <tr>\n",
       "      <td>1</td>\n",
       "      <td>0.0</td>\n",
       "      <td>0.000000</td>\n",
       "      <td>0.033657</td>\n",
       "      <td>0.047644</td>\n",
       "      <td>0.000000</td>\n",
       "      <td>0.134871</td>\n",
       "      <td>0.782669</td>\n",
       "      <td>0.000000</td>\n",
       "      <td>0.000000</td>\n",
       "      <td>0.000000</td>\n",
       "    </tr>\n",
       "    <tr>\n",
       "      <td>2</td>\n",
       "      <td>0.0</td>\n",
       "      <td>0.317652</td>\n",
       "      <td>0.000000</td>\n",
       "      <td>0.307296</td>\n",
       "      <td>0.000000</td>\n",
       "      <td>0.040994</td>\n",
       "      <td>0.081804</td>\n",
       "      <td>0.000000</td>\n",
       "      <td>0.251541</td>\n",
       "      <td>0.000000</td>\n",
       "    </tr>\n",
       "    <tr>\n",
       "      <td>3</td>\n",
       "      <td>0.0</td>\n",
       "      <td>0.416078</td>\n",
       "      <td>0.057316</td>\n",
       "      <td>0.000000</td>\n",
       "      <td>0.117221</td>\n",
       "      <td>0.298880</td>\n",
       "      <td>0.000000</td>\n",
       "      <td>0.000000</td>\n",
       "      <td>0.109442</td>\n",
       "      <td>0.000000</td>\n",
       "    </tr>\n",
       "    <tr>\n",
       "      <td>4</td>\n",
       "      <td>0.0</td>\n",
       "      <td>0.000000</td>\n",
       "      <td>0.000000</td>\n",
       "      <td>0.671761</td>\n",
       "      <td>0.000000</td>\n",
       "      <td>0.000000</td>\n",
       "      <td>0.000000</td>\n",
       "      <td>0.000000</td>\n",
       "      <td>0.320318</td>\n",
       "      <td>0.000000</td>\n",
       "    </tr>\n",
       "    <tr>\n",
       "      <td>5</td>\n",
       "      <td>0.0</td>\n",
       "      <td>0.684274</td>\n",
       "      <td>0.000000</td>\n",
       "      <td>0.000000</td>\n",
       "      <td>0.000000</td>\n",
       "      <td>0.047181</td>\n",
       "      <td>0.266549</td>\n",
       "      <td>0.000000</td>\n",
       "      <td>0.000000</td>\n",
       "      <td>0.000000</td>\n",
       "    </tr>\n",
       "    <tr>\n",
       "      <td>6</td>\n",
       "      <td>0.0</td>\n",
       "      <td>0.000000</td>\n",
       "      <td>0.094862</td>\n",
       "      <td>0.386681</td>\n",
       "      <td>0.000000</td>\n",
       "      <td>0.000000</td>\n",
       "      <td>0.331176</td>\n",
       "      <td>0.000000</td>\n",
       "      <td>0.185920</td>\n",
       "      <td>0.000000</td>\n",
       "    </tr>\n",
       "    <tr>\n",
       "      <td>7</td>\n",
       "      <td>0.0</td>\n",
       "      <td>0.000000</td>\n",
       "      <td>0.000000</td>\n",
       "      <td>0.000000</td>\n",
       "      <td>0.000000</td>\n",
       "      <td>0.000000</td>\n",
       "      <td>0.996413</td>\n",
       "      <td>0.000000</td>\n",
       "      <td>0.000000</td>\n",
       "      <td>0.000000</td>\n",
       "    </tr>\n",
       "    <tr>\n",
       "      <td>8</td>\n",
       "      <td>0.0</td>\n",
       "      <td>0.000000</td>\n",
       "      <td>0.000000</td>\n",
       "      <td>0.000000</td>\n",
       "      <td>0.000000</td>\n",
       "      <td>0.000000</td>\n",
       "      <td>0.025408</td>\n",
       "      <td>0.307622</td>\n",
       "      <td>0.579083</td>\n",
       "      <td>0.086725</td>\n",
       "    </tr>\n",
       "    <tr>\n",
       "      <td>9</td>\n",
       "      <td>0.0</td>\n",
       "      <td>0.021548</td>\n",
       "      <td>0.279584</td>\n",
       "      <td>0.142681</td>\n",
       "      <td>0.000000</td>\n",
       "      <td>0.031817</td>\n",
       "      <td>0.393010</td>\n",
       "      <td>0.093773</td>\n",
       "      <td>0.000000</td>\n",
       "      <td>0.030788</td>\n",
       "    </tr>\n",
       "  </tbody>\n",
       "</table>\n",
       "</div>"
      ],
      "text/plain": [
       "     0         1         2         3         4         5         6         7  \\\n",
       "0  0.0  0.935692  0.000000  0.062572  0.000000  0.000000  0.000000  0.000000   \n",
       "1  0.0  0.000000  0.033657  0.047644  0.000000  0.134871  0.782669  0.000000   \n",
       "2  0.0  0.317652  0.000000  0.307296  0.000000  0.040994  0.081804  0.000000   \n",
       "3  0.0  0.416078  0.057316  0.000000  0.117221  0.298880  0.000000  0.000000   \n",
       "4  0.0  0.000000  0.000000  0.671761  0.000000  0.000000  0.000000  0.000000   \n",
       "5  0.0  0.684274  0.000000  0.000000  0.000000  0.047181  0.266549  0.000000   \n",
       "6  0.0  0.000000  0.094862  0.386681  0.000000  0.000000  0.331176  0.000000   \n",
       "7  0.0  0.000000  0.000000  0.000000  0.000000  0.000000  0.996413  0.000000   \n",
       "8  0.0  0.000000  0.000000  0.000000  0.000000  0.000000  0.025408  0.307622   \n",
       "9  0.0  0.021548  0.279584  0.142681  0.000000  0.031817  0.393010  0.093773   \n",
       "\n",
       "          8         9  \n",
       "0  0.000000  0.000000  \n",
       "1  0.000000  0.000000  \n",
       "2  0.251541  0.000000  \n",
       "3  0.109442  0.000000  \n",
       "4  0.320318  0.000000  \n",
       "5  0.000000  0.000000  \n",
       "6  0.185920  0.000000  \n",
       "7  0.000000  0.000000  \n",
       "8  0.579083  0.086725  \n",
       "9  0.000000  0.030788  "
      ]
     },
     "execution_count": 63,
     "metadata": {},
     "output_type": "execute_result"
    }
   ],
   "source": [
    "document_topic.head(10)"
   ]
  },
  {
   "cell_type": "code",
   "execution_count": 68,
   "metadata": {},
   "outputs": [
    {
     "data": {
      "text/plain": [
       "(38932, 10)"
      ]
     },
     "execution_count": 68,
     "metadata": {},
     "output_type": "execute_result"
    }
   ],
   "source": [
    "document_topic.shape"
   ]
  },
  {
   "cell_type": "code",
   "execution_count": 69,
   "metadata": {},
   "outputs": [
    {
     "data": {
      "text/html": [
       "<div>\n",
       "<style scoped>\n",
       "    .dataframe tbody tr th:only-of-type {\n",
       "        vertical-align: middle;\n",
       "    }\n",
       "\n",
       "    .dataframe tbody tr th {\n",
       "        vertical-align: top;\n",
       "    }\n",
       "\n",
       "    .dataframe thead th {\n",
       "        text-align: right;\n",
       "    }\n",
       "</style>\n",
       "<table border=\"1\" class=\"dataframe\">\n",
       "  <thead>\n",
       "    <tr style=\"text-align: right;\">\n",
       "      <th></th>\n",
       "      <th>User_ID</th>\n",
       "      <th>Description</th>\n",
       "      <th>Is_Response</th>\n",
       "      <th>hotel_ID</th>\n",
       "      <th>tokenized_des</th>\n",
       "    </tr>\n",
       "  </thead>\n",
       "  <tbody>\n",
       "    <tr>\n",
       "      <td>0</td>\n",
       "      <td>id10329</td>\n",
       "      <td>stayed here with husband and sons on the way t...</td>\n",
       "      <td>happy</td>\n",
       "      <td>8</td>\n",
       "      <td>[stayed, husband, sons, way, alaska, cruise, l...</td>\n",
       "    </tr>\n",
       "    <tr>\n",
       "      <td>1</td>\n",
       "      <td>id10331</td>\n",
       "      <td>we had - rooms one was very nice and clearly h...</td>\n",
       "      <td>happy</td>\n",
       "      <td>3</td>\n",
       "      <td>[rooms, one, nice, clearly, updated, recently,...</td>\n",
       "    </tr>\n",
       "    <tr>\n",
       "      <td>2</td>\n",
       "      <td>id10333</td>\n",
       "      <td>my wife  i stayed in this glorious city a whil...</td>\n",
       "      <td>happy</td>\n",
       "      <td>3</td>\n",
       "      <td>[wife, stayed, glorious, city, back, sf, expen...</td>\n",
       "    </tr>\n",
       "    <tr>\n",
       "      <td>3</td>\n",
       "      <td>id10334</td>\n",
       "      <td>my boyfriend and i stayed at the fairmont on a...</td>\n",
       "      <td>happy</td>\n",
       "      <td>7</td>\n",
       "      <td>[boyfriend, stayed, fairmont, recent, trip, sa...</td>\n",
       "    </tr>\n",
       "    <tr>\n",
       "      <td>4</td>\n",
       "      <td>id10336</td>\n",
       "      <td>steps off times square nice rooms stayed - nig...</td>\n",
       "      <td>happy</td>\n",
       "      <td>3</td>\n",
       "      <td>[steps, times, square, nice, rooms, stayed, ni...</td>\n",
       "    </tr>\n",
       "    <tr>\n",
       "      <td>5</td>\n",
       "      <td>id10337</td>\n",
       "      <td>me the wife and - kids stayed here on valentin...</td>\n",
       "      <td>happy</td>\n",
       "      <td>7</td>\n",
       "      <td>[wife, kids, stayed, weekend, really, nice, ho...</td>\n",
       "    </tr>\n",
       "    <tr>\n",
       "      <td>6</td>\n",
       "      <td>id10339</td>\n",
       "      <td>i highly recommend the hawthorne terrace as an...</td>\n",
       "      <td>happy</td>\n",
       "      <td>8</td>\n",
       "      <td>[highly, recommend, hawthorne, terrace, afford...</td>\n",
       "    </tr>\n",
       "    <tr>\n",
       "      <td>7</td>\n",
       "      <td>id10340</td>\n",
       "      <td>i found the hotel clean and nicely located goo...</td>\n",
       "      <td>happy</td>\n",
       "      <td>3</td>\n",
       "      <td>[found, hotel, clean, nicely, located, good, f...</td>\n",
       "    </tr>\n",
       "    <tr>\n",
       "      <td>8</td>\n",
       "      <td>id10341</td>\n",
       "      <td>stayed at the elan from --th to --th october a...</td>\n",
       "      <td>happy</td>\n",
       "      <td>1</td>\n",
       "      <td>[stayed, elan, october, liked, much, returned,...</td>\n",
       "    </tr>\n",
       "    <tr>\n",
       "      <td>9</td>\n",
       "      <td>id10344</td>\n",
       "      <td>we stayed here for - nights and were really ha...</td>\n",
       "      <td>happy</td>\n",
       "      <td>5</td>\n",
       "      <td>[stayed, nights, really, happy, located, walk,...</td>\n",
       "    </tr>\n",
       "  </tbody>\n",
       "</table>\n",
       "</div>"
      ],
      "text/plain": [
       "   User_ID                                        Description Is_Response  \\\n",
       "0  id10329  stayed here with husband and sons on the way t...       happy   \n",
       "1  id10331  we had - rooms one was very nice and clearly h...       happy   \n",
       "2  id10333  my wife  i stayed in this glorious city a whil...       happy   \n",
       "3  id10334  my boyfriend and i stayed at the fairmont on a...       happy   \n",
       "4  id10336  steps off times square nice rooms stayed - nig...       happy   \n",
       "5  id10337  me the wife and - kids stayed here on valentin...       happy   \n",
       "6  id10339  i highly recommend the hawthorne terrace as an...       happy   \n",
       "7  id10340  i found the hotel clean and nicely located goo...       happy   \n",
       "8  id10341  stayed at the elan from --th to --th october a...       happy   \n",
       "9  id10344  we stayed here for - nights and were really ha...       happy   \n",
       "\n",
       "   hotel_ID                                      tokenized_des  \n",
       "0         8  [stayed, husband, sons, way, alaska, cruise, l...  \n",
       "1         3  [rooms, one, nice, clearly, updated, recently,...  \n",
       "2         3  [wife, stayed, glorious, city, back, sf, expen...  \n",
       "3         7  [boyfriend, stayed, fairmont, recent, trip, sa...  \n",
       "4         3  [steps, times, square, nice, rooms, stayed, ni...  \n",
       "5         7  [wife, kids, stayed, weekend, really, nice, ho...  \n",
       "6         8  [highly, recommend, hawthorne, terrace, afford...  \n",
       "7         3  [found, hotel, clean, nicely, located, good, f...  \n",
       "8         1  [stayed, elan, october, liked, much, returned,...  \n",
       "9         5  [stayed, nights, really, happy, located, walk,...  "
      ]
     },
     "execution_count": 69,
     "metadata": {},
     "output_type": "execute_result"
    }
   ],
   "source": [
    "data.head(10)"
   ]
  },
  {
   "cell_type": "code",
   "execution_count": 70,
   "metadata": {},
   "outputs": [
    {
     "data": {
      "text/plain": [
       "<matplotlib.axes._subplots.AxesSubplot at 0x1a829285b48>"
      ]
     },
     "execution_count": 70,
     "metadata": {},
     "output_type": "execute_result"
    },
    {
     "data": {
      "image/png": "[encoded data removed]",
      "text/plain": [
       "<Figure size 720x1440 with 2 Axes>"
      ]
     },
     "metadata": {},
     "output_type": "display_data"
    }
   ],
   "source": [
    "# distribution of topics in all documents\n",
    "\n",
    "%matplotlib inline\n",
    "sns.set(rc={'figure.figsize':(10,20)})\n",
    "sns.heatmap(document_topic.loc[document_topic.idxmax(axis=1).sort_values().index])"
   ]
  },
  {
   "cell_type": "markdown",
   "metadata": {},
   "source": [
    "Step 4: merging document_topic dataframe back to original dataframe"
   ]
  },
  {
   "cell_type": "code",
   "execution_count": 93,
   "metadata": {},
   "outputs": [],
   "source": [
    "document_topic['index'] = document_topic.index\n",
    "data = data.reset_index(drop = True) \n",
    "data['index'] = data.index"
   ]
  },
  {
   "cell_type": "code",
   "execution_count": 94,
   "metadata": {},
   "outputs": [
    {
     "name": "stdout",
     "output_type": "stream",
     "text": [
      "38932\n",
      "38932\n"
     ]
    }
   ],
   "source": [
    "print(len(document_topic['index'].unique()))\n",
    "print(len(data['index'].unique()))"
   ]
  },
  {
   "cell_type": "code",
   "execution_count": 106,
   "metadata": {},
   "outputs": [],
   "source": [
    "merged = data.merge(document_topic, on = 'index')"
   ]
  },
  {
   "cell_type": "code",
   "execution_count": 107,
   "metadata": {},
   "outputs": [
    {
     "data": {
      "text/html": [
       "<div>\n",
       "<style scoped>\n",
       "    .dataframe tbody tr th:only-of-type {\n",
       "        vertical-align: middle;\n",
       "    }\n",
       "\n",
       "    .dataframe tbody tr th {\n",
       "        vertical-align: top;\n",
       "    }\n",
       "\n",
       "    .dataframe thead th {\n",
       "        text-align: right;\n",
       "    }\n",
       "</style>\n",
       "<table border=\"1\" class=\"dataframe\">\n",
       "  <thead>\n",
       "    <tr style=\"text-align: right;\">\n",
       "      <th></th>\n",
       "      <th>User_ID</th>\n",
       "      <th>Description</th>\n",
       "      <th>Is_Response</th>\n",
       "      <th>hotel_ID</th>\n",
       "      <th>index</th>\n",
       "      <th>0</th>\n",
       "      <th>1</th>\n",
       "      <th>2</th>\n",
       "      <th>3</th>\n",
       "      <th>4</th>\n",
       "      <th>5</th>\n",
       "      <th>6</th>\n",
       "      <th>7</th>\n",
       "      <th>8</th>\n",
       "      <th>9</th>\n",
       "    </tr>\n",
       "  </thead>\n",
       "  <tbody>\n",
       "    <tr>\n",
       "      <td>0</td>\n",
       "      <td>id10329</td>\n",
       "      <td>Stayed here with husband and sons on the way t...</td>\n",
       "      <td>happy</td>\n",
       "      <td>8</td>\n",
       "      <td>0</td>\n",
       "      <td>0.0</td>\n",
       "      <td>0.935692</td>\n",
       "      <td>0.000000</td>\n",
       "      <td>0.062572</td>\n",
       "      <td>0.000000</td>\n",
       "      <td>0.000000</td>\n",
       "      <td>0.000000</td>\n",
       "      <td>0.000000</td>\n",
       "      <td>0.000000</td>\n",
       "      <td>0.000000</td>\n",
       "    </tr>\n",
       "    <tr>\n",
       "      <td>1</td>\n",
       "      <td>id10331</td>\n",
       "      <td>We had - rooms. One was very nice and clearly ...</td>\n",
       "      <td>happy</td>\n",
       "      <td>3</td>\n",
       "      <td>1</td>\n",
       "      <td>0.0</td>\n",
       "      <td>0.000000</td>\n",
       "      <td>0.033657</td>\n",
       "      <td>0.047644</td>\n",
       "      <td>0.000000</td>\n",
       "      <td>0.134871</td>\n",
       "      <td>0.782669</td>\n",
       "      <td>0.000000</td>\n",
       "      <td>0.000000</td>\n",
       "      <td>0.000000</td>\n",
       "    </tr>\n",
       "    <tr>\n",
       "      <td>2</td>\n",
       "      <td>id10333</td>\n",
       "      <td>My wife &amp; I stayed in this glorious city a whi...</td>\n",
       "      <td>happy</td>\n",
       "      <td>3</td>\n",
       "      <td>2</td>\n",
       "      <td>0.0</td>\n",
       "      <td>0.317652</td>\n",
       "      <td>0.000000</td>\n",
       "      <td>0.307296</td>\n",
       "      <td>0.000000</td>\n",
       "      <td>0.040994</td>\n",
       "      <td>0.081804</td>\n",
       "      <td>0.000000</td>\n",
       "      <td>0.251541</td>\n",
       "      <td>0.000000</td>\n",
       "    </tr>\n",
       "    <tr>\n",
       "      <td>3</td>\n",
       "      <td>id10334</td>\n",
       "      <td>My boyfriend and I stayed at the Fairmont on a...</td>\n",
       "      <td>happy</td>\n",
       "      <td>7</td>\n",
       "      <td>3</td>\n",
       "      <td>0.0</td>\n",
       "      <td>0.416078</td>\n",
       "      <td>0.057316</td>\n",
       "      <td>0.000000</td>\n",
       "      <td>0.117221</td>\n",
       "      <td>0.298880</td>\n",
       "      <td>0.000000</td>\n",
       "      <td>0.000000</td>\n",
       "      <td>0.109442</td>\n",
       "      <td>0.000000</td>\n",
       "    </tr>\n",
       "    <tr>\n",
       "      <td>4</td>\n",
       "      <td>id10336</td>\n",
       "      <td>Steps off Times Square, nice rooms, stayed - n...</td>\n",
       "      <td>happy</td>\n",
       "      <td>3</td>\n",
       "      <td>4</td>\n",
       "      <td>0.0</td>\n",
       "      <td>0.000000</td>\n",
       "      <td>0.000000</td>\n",
       "      <td>0.671761</td>\n",
       "      <td>0.000000</td>\n",
       "      <td>0.000000</td>\n",
       "      <td>0.000000</td>\n",
       "      <td>0.000000</td>\n",
       "      <td>0.320318</td>\n",
       "      <td>0.000000</td>\n",
       "    </tr>\n",
       "    <tr>\n",
       "      <td>5</td>\n",
       "      <td>id10337</td>\n",
       "      <td>Me, the Wife and - kids stayed here on Valenti...</td>\n",
       "      <td>happy</td>\n",
       "      <td>7</td>\n",
       "      <td>5</td>\n",
       "      <td>0.0</td>\n",
       "      <td>0.684274</td>\n",
       "      <td>0.000000</td>\n",
       "      <td>0.000000</td>\n",
       "      <td>0.000000</td>\n",
       "      <td>0.047181</td>\n",
       "      <td>0.266549</td>\n",
       "      <td>0.000000</td>\n",
       "      <td>0.000000</td>\n",
       "      <td>0.000000</td>\n",
       "    </tr>\n",
       "    <tr>\n",
       "      <td>6</td>\n",
       "      <td>id10339</td>\n",
       "      <td>I highly recommend the Hawthorne Terrace as an...</td>\n",
       "      <td>happy</td>\n",
       "      <td>8</td>\n",
       "      <td>6</td>\n",
       "      <td>0.0</td>\n",
       "      <td>0.000000</td>\n",
       "      <td>0.094862</td>\n",
       "      <td>0.386681</td>\n",
       "      <td>0.000000</td>\n",
       "      <td>0.000000</td>\n",
       "      <td>0.331176</td>\n",
       "      <td>0.000000</td>\n",
       "      <td>0.185920</td>\n",
       "      <td>0.000000</td>\n",
       "    </tr>\n",
       "    <tr>\n",
       "      <td>7</td>\n",
       "      <td>id10340</td>\n",
       "      <td>I found the hotel clean and nicely located. Go...</td>\n",
       "      <td>happy</td>\n",
       "      <td>3</td>\n",
       "      <td>7</td>\n",
       "      <td>0.0</td>\n",
       "      <td>0.000000</td>\n",
       "      <td>0.000000</td>\n",
       "      <td>0.000000</td>\n",
       "      <td>0.000000</td>\n",
       "      <td>0.000000</td>\n",
       "      <td>0.996413</td>\n",
       "      <td>0.000000</td>\n",
       "      <td>0.000000</td>\n",
       "      <td>0.000000</td>\n",
       "    </tr>\n",
       "    <tr>\n",
       "      <td>8</td>\n",
       "      <td>id10341</td>\n",
       "      <td>Stayed at the Elan from --th to --th October a...</td>\n",
       "      <td>happy</td>\n",
       "      <td>1</td>\n",
       "      <td>8</td>\n",
       "      <td>0.0</td>\n",
       "      <td>0.000000</td>\n",
       "      <td>0.000000</td>\n",
       "      <td>0.000000</td>\n",
       "      <td>0.000000</td>\n",
       "      <td>0.000000</td>\n",
       "      <td>0.025408</td>\n",
       "      <td>0.307622</td>\n",
       "      <td>0.579083</td>\n",
       "      <td>0.086725</td>\n",
       "    </tr>\n",
       "    <tr>\n",
       "      <td>9</td>\n",
       "      <td>id10344</td>\n",
       "      <td>We stayed here for - nights and were really ha...</td>\n",
       "      <td>happy</td>\n",
       "      <td>5</td>\n",
       "      <td>9</td>\n",
       "      <td>0.0</td>\n",
       "      <td>0.021548</td>\n",
       "      <td>0.279584</td>\n",
       "      <td>0.142681</td>\n",
       "      <td>0.000000</td>\n",
       "      <td>0.031817</td>\n",
       "      <td>0.393010</td>\n",
       "      <td>0.093773</td>\n",
       "      <td>0.000000</td>\n",
       "      <td>0.030788</td>\n",
       "    </tr>\n",
       "  </tbody>\n",
       "</table>\n",
       "</div>"
      ],
      "text/plain": [
       "   User_ID                                        Description Is_Response  \\\n",
       "0  id10329  Stayed here with husband and sons on the way t...       happy   \n",
       "1  id10331  We had - rooms. One was very nice and clearly ...       happy   \n",
       "2  id10333  My wife & I stayed in this glorious city a whi...       happy   \n",
       "3  id10334  My boyfriend and I stayed at the Fairmont on a...       happy   \n",
       "4  id10336  Steps off Times Square, nice rooms, stayed - n...       happy   \n",
       "5  id10337  Me, the Wife and - kids stayed here on Valenti...       happy   \n",
       "6  id10339  I highly recommend the Hawthorne Terrace as an...       happy   \n",
       "7  id10340  I found the hotel clean and nicely located. Go...       happy   \n",
       "8  id10341  Stayed at the Elan from --th to --th October a...       happy   \n",
       "9  id10344  We stayed here for - nights and were really ha...       happy   \n",
       "\n",
       "   hotel_ID  index    0         1         2         3         4         5  \\\n",
       "0         8      0  0.0  0.935692  0.000000  0.062572  0.000000  0.000000   \n",
       "1         3      1  0.0  0.000000  0.033657  0.047644  0.000000  0.134871   \n",
       "2         3      2  0.0  0.317652  0.000000  0.307296  0.000000  0.040994   \n",
       "3         7      3  0.0  0.416078  0.057316  0.000000  0.117221  0.298880   \n",
       "4         3      4  0.0  0.000000  0.000000  0.671761  0.000000  0.000000   \n",
       "5         7      5  0.0  0.684274  0.000000  0.000000  0.000000  0.047181   \n",
       "6         8      6  0.0  0.000000  0.094862  0.386681  0.000000  0.000000   \n",
       "7         3      7  0.0  0.000000  0.000000  0.000000  0.000000  0.000000   \n",
       "8         1      8  0.0  0.000000  0.000000  0.000000  0.000000  0.000000   \n",
       "9         5      9  0.0  0.021548  0.279584  0.142681  0.000000  0.031817   \n",
       "\n",
       "          6         7         8         9  \n",
       "0  0.000000  0.000000  0.000000  0.000000  \n",
       "1  0.782669  0.000000  0.000000  0.000000  \n",
       "2  0.081804  0.000000  0.251541  0.000000  \n",
       "3  0.000000  0.000000  0.109442  0.000000  \n",
       "4  0.000000  0.000000  0.320318  0.000000  \n",
       "5  0.266549  0.000000  0.000000  0.000000  \n",
       "6  0.331176  0.000000  0.185920  0.000000  \n",
       "7  0.996413  0.000000  0.000000  0.000000  \n",
       "8  0.025408  0.307622  0.579083  0.086725  \n",
       "9  0.393010  0.093773  0.000000  0.030788  "
      ]
     },
     "execution_count": 107,
     "metadata": {},
     "output_type": "execute_result"
    }
   ],
   "source": [
    "merged.head(10)"
   ]
  },
  {
   "cell_type": "code",
   "execution_count": 108,
   "metadata": {},
   "outputs": [
    {
     "data": {
      "text/html": [
       "<div>\n",
       "<style scoped>\n",
       "    .dataframe tbody tr th:only-of-type {\n",
       "        vertical-align: middle;\n",
       "    }\n",
       "\n",
       "    .dataframe tbody tr th {\n",
       "        vertical-align: top;\n",
       "    }\n",
       "\n",
       "    .dataframe thead th {\n",
       "        text-align: right;\n",
       "    }\n",
       "</style>\n",
       "<table border=\"1\" class=\"dataframe\">\n",
       "  <thead>\n",
       "    <tr style=\"text-align: right;\">\n",
       "      <th></th>\n",
       "      <th>index</th>\n",
       "      <th>0</th>\n",
       "      <th>1</th>\n",
       "      <th>2</th>\n",
       "      <th>3</th>\n",
       "      <th>4</th>\n",
       "      <th>5</th>\n",
       "      <th>6</th>\n",
       "      <th>7</th>\n",
       "      <th>8</th>\n",
       "      <th>9</th>\n",
       "    </tr>\n",
       "    <tr>\n",
       "      <th>hotel_ID</th>\n",
       "      <th></th>\n",
       "      <th></th>\n",
       "      <th></th>\n",
       "      <th></th>\n",
       "      <th></th>\n",
       "      <th></th>\n",
       "      <th></th>\n",
       "      <th></th>\n",
       "      <th></th>\n",
       "      <th></th>\n",
       "      <th></th>\n",
       "    </tr>\n",
       "  </thead>\n",
       "  <tbody>\n",
       "    <tr>\n",
       "      <td>1</td>\n",
       "      <td>21970.108934</td>\n",
       "      <td>0.074110</td>\n",
       "      <td>0.075155</td>\n",
       "      <td>0.043497</td>\n",
       "      <td>0.121297</td>\n",
       "      <td>0.067065</td>\n",
       "      <td>0.078197</td>\n",
       "      <td>0.111221</td>\n",
       "      <td>0.215988</td>\n",
       "      <td>0.148064</td>\n",
       "      <td>0.063614</td>\n",
       "    </tr>\n",
       "    <tr>\n",
       "      <td>2</td>\n",
       "      <td>22956.011662</td>\n",
       "      <td>0.074489</td>\n",
       "      <td>0.067372</td>\n",
       "      <td>0.044282</td>\n",
       "      <td>0.119888</td>\n",
       "      <td>0.065730</td>\n",
       "      <td>0.077404</td>\n",
       "      <td>0.109884</td>\n",
       "      <td>0.233160</td>\n",
       "      <td>0.136513</td>\n",
       "      <td>0.069491</td>\n",
       "    </tr>\n",
       "    <tr>\n",
       "      <td>3</td>\n",
       "      <td>19429.015545</td>\n",
       "      <td>0.072201</td>\n",
       "      <td>0.085061</td>\n",
       "      <td>0.046547</td>\n",
       "      <td>0.126967</td>\n",
       "      <td>0.070790</td>\n",
       "      <td>0.076706</td>\n",
       "      <td>0.109698</td>\n",
       "      <td>0.181045</td>\n",
       "      <td>0.164769</td>\n",
       "      <td>0.064420</td>\n",
       "    </tr>\n",
       "    <tr>\n",
       "      <td>4</td>\n",
       "      <td>19457.661896</td>\n",
       "      <td>0.070060</td>\n",
       "      <td>0.079837</td>\n",
       "      <td>0.046263</td>\n",
       "      <td>0.129042</td>\n",
       "      <td>0.070220</td>\n",
       "      <td>0.078601</td>\n",
       "      <td>0.111958</td>\n",
       "      <td>0.184049</td>\n",
       "      <td>0.166361</td>\n",
       "      <td>0.061821</td>\n",
       "    </tr>\n",
       "    <tr>\n",
       "      <td>5</td>\n",
       "      <td>16602.372793</td>\n",
       "      <td>0.073324</td>\n",
       "      <td>0.092849</td>\n",
       "      <td>0.048702</td>\n",
       "      <td>0.140266</td>\n",
       "      <td>0.069971</td>\n",
       "      <td>0.082460</td>\n",
       "      <td>0.109847</td>\n",
       "      <td>0.142351</td>\n",
       "      <td>0.183907</td>\n",
       "      <td>0.054498</td>\n",
       "    </tr>\n",
       "    <tr>\n",
       "      <td>6</td>\n",
       "      <td>18771.293863</td>\n",
       "      <td>0.072797</td>\n",
       "      <td>0.079454</td>\n",
       "      <td>0.048013</td>\n",
       "      <td>0.137332</td>\n",
       "      <td>0.073213</td>\n",
       "      <td>0.082944</td>\n",
       "      <td>0.105549</td>\n",
       "      <td>0.175104</td>\n",
       "      <td>0.163584</td>\n",
       "      <td>0.060304</td>\n",
       "    </tr>\n",
       "    <tr>\n",
       "      <td>7</td>\n",
       "      <td>21648.918751</td>\n",
       "      <td>0.073300</td>\n",
       "      <td>0.073609</td>\n",
       "      <td>0.043264</td>\n",
       "      <td>0.126248</td>\n",
       "      <td>0.069276</td>\n",
       "      <td>0.074800</td>\n",
       "      <td>0.110443</td>\n",
       "      <td>0.211902</td>\n",
       "      <td>0.149091</td>\n",
       "      <td>0.066326</td>\n",
       "    </tr>\n",
       "    <tr>\n",
       "      <td>8</td>\n",
       "      <td>16399.803288</td>\n",
       "      <td>0.069076</td>\n",
       "      <td>0.094340</td>\n",
       "      <td>0.048834</td>\n",
       "      <td>0.141897</td>\n",
       "      <td>0.071678</td>\n",
       "      <td>0.080564</td>\n",
       "      <td>0.106550</td>\n",
       "      <td>0.136784</td>\n",
       "      <td>0.192533</td>\n",
       "      <td>0.055966</td>\n",
       "    </tr>\n",
       "    <tr>\n",
       "      <td>9</td>\n",
       "      <td>22659.025100</td>\n",
       "      <td>0.080409</td>\n",
       "      <td>0.070362</td>\n",
       "      <td>0.041127</td>\n",
       "      <td>0.116751</td>\n",
       "      <td>0.066325</td>\n",
       "      <td>0.081490</td>\n",
       "      <td>0.108849</td>\n",
       "      <td>0.221091</td>\n",
       "      <td>0.144031</td>\n",
       "      <td>0.067782</td>\n",
       "    </tr>\n",
       "    <tr>\n",
       "      <td>10</td>\n",
       "      <td>22622.547320</td>\n",
       "      <td>0.074543</td>\n",
       "      <td>0.069626</td>\n",
       "      <td>0.045173</td>\n",
       "      <td>0.122711</td>\n",
       "      <td>0.071621</td>\n",
       "      <td>0.074696</td>\n",
       "      <td>0.108142</td>\n",
       "      <td>0.229564</td>\n",
       "      <td>0.132566</td>\n",
       "      <td>0.069601</td>\n",
       "    </tr>\n",
       "  </tbody>\n",
       "</table>\n",
       "</div>"
      ],
      "text/plain": [
       "                 index         0         1         2         3         4  \\\n",
       "hotel_ID                                                                   \n",
       "1         21970.108934  0.074110  0.075155  0.043497  0.121297  0.067065   \n",
       "2         22956.011662  0.074489  0.067372  0.044282  0.119888  0.065730   \n",
       "3         19429.015545  0.072201  0.085061  0.046547  0.126967  0.070790   \n",
       "4         19457.661896  0.070060  0.079837  0.046263  0.129042  0.070220   \n",
       "5         16602.372793  0.073324  0.092849  0.048702  0.140266  0.069971   \n",
       "6         18771.293863  0.072797  0.079454  0.048013  0.137332  0.073213   \n",
       "7         21648.918751  0.073300  0.073609  0.043264  0.126248  0.069276   \n",
       "8         16399.803288  0.069076  0.094340  0.048834  0.141897  0.071678   \n",
       "9         22659.025100  0.080409  0.070362  0.041127  0.116751  0.066325   \n",
       "10        22622.547320  0.074543  0.069626  0.045173  0.122711  0.071621   \n",
       "\n",
       "                 5         6         7         8         9  \n",
       "hotel_ID                                                    \n",
       "1         0.078197  0.111221  0.215988  0.148064  0.063614  \n",
       "2         0.077404  0.109884  0.233160  0.136513  0.069491  \n",
       "3         0.076706  0.109698  0.181045  0.164769  0.064420  \n",
       "4         0.078601  0.111958  0.184049  0.166361  0.061821  \n",
       "5         0.082460  0.109847  0.142351  0.183907  0.054498  \n",
       "6         0.082944  0.105549  0.175104  0.163584  0.060304  \n",
       "7         0.074800  0.110443  0.211902  0.149091  0.066326  \n",
       "8         0.080564  0.106550  0.136784  0.192533  0.055966  \n",
       "9         0.081490  0.108849  0.221091  0.144031  0.067782  \n",
       "10        0.074696  0.108142  0.229564  0.132566  0.069601  "
      ]
     },
     "execution_count": 108,
     "metadata": {},
     "output_type": "execute_result"
    }
   ],
   "source": [
    "merged.groupby('hotel_ID').mean()"
   ]
  },
  {
   "cell_type": "code",
   "execution_count": null,
   "metadata": {},
   "outputs": [],
   "source": [
    "# the above does not look right, should first do groupby hotel, then come up with 1 topic for all reviews in one hotel"
   ]
  }
 ],
 "metadata": {
  "kernelspec": {
   "display_name": "Python 3",
   "language": "python",
   "name": "python3"
  },
  "language_info": {
   "codemirror_mode": {
    "name": "ipython",
    "version": 3
   },
   "file_extension": ".py",
   "mimetype": "text/x-python",
   "name": "python",
   "nbconvert_exporter": "python",
   "pygments_lexer": "ipython3",
   "version": "3.7.4"
  }
 },
 "nbformat": 4,
 "nbformat_minor": 2
}
