{
 "cells": [
  {
   "cell_type": "markdown",
   "metadata": {},
   "source": [
    "# Data Challenge: Breast Cancer Detection"
   ]
  },
  {
   "cell_type": "code",
   "execution_count": 1,
   "metadata": {},
   "outputs": [],
   "source": [
    "import os\n",
    "import pandas as pd\n",
    "import numpy as np\n",
    "import matplotlib.pyplot as plt\n",
    "import seaborn as sns\n",
    "import warnings\n",
    "warnings.filterwarnings(\"ignore\")"
   ]
  },
  {
   "cell_type": "code",
   "execution_count": 2,
   "metadata": {},
   "outputs": [],
   "source": [
    "from sklearn.model_selection import train_test_split\n",
    "from sklearn.preprocessing import StandardScaler\n",
    "from sklearn.linear_model import LogisticRegression\n",
    "from sklearn.neighbors import KNeighborsClassifier\n",
    "from sklearn.svm import SVC\n",
    "from sklearn.naive_bayes import GaussianNB\n",
    "from sklearn.tree import DecisionTreeClassifier\n",
    "from sklearn.ensemble import RandomForestClassifier\n",
    "from sklearn.metrics import confusion_matrix, classification_report, accuracy_score"
   ]
  },
  {
   "cell_type": "markdown",
   "metadata": {},
   "source": [
    "## Step 1: importing and cleaning data"
   ]
  },
  {
   "cell_type": "code",
   "execution_count": 3,
   "metadata": {},
   "outputs": [
    {
     "name": "stdout",
     "output_type": "stream",
     "text": [
      "<class 'pandas.core.frame.DataFrame'>\n",
      "RangeIndex: 15855 entries, 0 to 15854\n",
      "Data columns (total 12 columns):\n",
      "Index                          15855 non-null int64\n",
      "ID                             15855 non-null int64\n",
      "Clump Thickness                15855 non-null int64\n",
      "Uniformity of Cell Size        15827 non-null object\n",
      "Uniformity of Cell Shape       15827 non-null object\n",
      "Marginal Adhesion              15827 non-null object\n",
      "Single Epithelial Cell Size    15827 non-null object\n",
      "Bare Nuclei                    15827 non-null object\n",
      "Bland Chromatin                15827 non-null object\n",
      "Normal Nucleoli                15827 non-null object\n",
      "Mitoses                        15827 non-null object\n",
      "Class                          15827 non-null object\n",
      "dtypes: int64(3), object(9)\n",
      "memory usage: 1.5+ MB\n"
     ]
    }
   ],
   "source": [
    "# loading data\n",
    "\n",
    "path = 'C:/Users/Huajun/Desktop/DataChallenge/'\n",
    "file = 'breast-cancer-wisconsin.txt'\n",
    "data = pd.read_table(os.path.join(path, file), sep = \",\")\n",
    "data.info()"
   ]
  },
  {
   "cell_type": "code",
   "execution_count": 4,
   "metadata": {},
   "outputs": [
    {
     "name": "stdout",
     "output_type": "stream",
     "text": [
      "666\n"
     ]
    },
    {
     "data": {
      "text/plain": [
       "(666, 12)"
      ]
     },
     "execution_count": 4,
     "metadata": {},
     "output_type": "execute_result"
    }
   ],
   "source": [
    "# Check unique observations and drop duplicate records\n",
    "\n",
    "print(len(data['ID'].unique()))\n",
    "data.drop_duplicates(subset = 'ID', keep = 'first', inplace = True)\n",
    "data.shape"
   ]
  },
  {
   "cell_type": "code",
   "execution_count": 5,
   "metadata": {},
   "outputs": [
    {
     "data": {
      "text/plain": [
       "2     409\n",
       "4     234\n",
       "40     17\n",
       "20      5\n",
       "?       1\n",
       "Name: Class, dtype: int64"
      ]
     },
     "execution_count": 5,
     "metadata": {},
     "output_type": "execute_result"
    }
   ],
   "source": [
    "# check the distribution of outcome variable\n",
    "\n",
    "data['Class'].value_counts()"
   ]
  },
  {
   "cell_type": "code",
   "execution_count": 6,
   "metadata": {},
   "outputs": [],
   "source": [
    "# define functions to convert strings into integers values for non-numeric features\n",
    "\n",
    "def convert_class(value):\n",
    "    \"\"\"convert Class variable into benign vs. malignant\"\"\"\n",
    "    if value == '4':\n",
    "        return 0\n",
    "    elif value == '2':\n",
    "        return 1\n",
    "    else:\n",
    "        return None\n",
    "\n",
    "\n",
    "def convert_int(value):\n",
    "    \"\"\"convert str values into int values\"\"\"\n",
    "    if value.isdigit():\n",
    "        return int(value)\n",
    "    else:\n",
    "        return None"
   ]
  },
  {
   "cell_type": "code",
   "execution_count": 7,
   "metadata": {},
   "outputs": [],
   "source": [
    "# apply above functions to process features\n",
    "\n",
    "data['malignant'] = data['Class'].apply(convert_class)\n",
    "data = data.dropna()\n",
    "\n",
    "data['breast cell'] = np.where(data['malignant'] == 1,\n",
    "                         'Malignant', 'Benign')\n",
    "\n",
    "columns = ['Uniformity of Cell Shape', 'Uniformity of Cell Size', 'Marginal Adhesion', \\\n",
    "     'Single Epithelial Cell Size', 'Bare Nuclei', 'Bland Chromatin', \\\n",
    "     'Normal Nucleoli', 'Mitoses']\n",
    "\n",
    "for label in columns:\n",
    "    data[label] = data[label].apply(convert_int)   "
   ]
  },
  {
   "cell_type": "code",
   "execution_count": 8,
   "metadata": {},
   "outputs": [
    {
     "data": {
      "text/plain": [
       "(627, 14)"
      ]
     },
     "execution_count": 8,
     "metadata": {},
     "output_type": "execute_result"
    }
   ],
   "source": [
    "# final data shape\n",
    "\n",
    "data = data.dropna()\n",
    "data.shape"
   ]
  },
  {
   "cell_type": "markdown",
   "metadata": {},
   "source": [
    "## Step 2: EDA and visualization"
   ]
  },
  {
   "cell_type": "code",
   "execution_count": 9,
   "metadata": {},
   "outputs": [
    {
     "data": {
      "text/plain": [
       "<matplotlib.axes._subplots.AxesSubplot at 0x17569e0d2c8>"
      ]
     },
     "execution_count": 9,
     "metadata": {},
     "output_type": "execute_result"
    },
    {
     "data": {
      "image/png": "[encoded data removed]",
      "text/plain": [
       "<Figure size 432x288 with 1 Axes>"
      ]
     },
     "metadata": {
      "needs_background": "light"
     },
     "output_type": "display_data"
    }
   ],
   "source": [
    "# plotting the distribution of the outcome\n",
    "\n",
    "sns.countplot(data['breast cell'], label = \"Count\")"
   ]
  },
  {
   "cell_type": "code",
   "execution_count": 10,
   "metadata": {},
   "outputs": [
    {
     "data": {
      "image/png": "[encoded data removed]",
      "text/plain": [
       "<Figure size 432x1080 with 9 Axes>"
      ]
     },
     "metadata": {
      "needs_background": "light"
     },
     "output_type": "display_data"
    }
   ],
   "source": [
    "# plot the distribution of each feature by outcome classes\n",
    "\n",
    "features = ['Clump Thickness', 'Uniformity of Cell Shape', 'Uniformity of Cell Size', \\\n",
    "            'Marginal Adhesion', 'Single Epithelial Cell Size', 'Bare Nuclei', \\\n",
    "            'Bland Chromatin', 'Normal Nucleoli', 'Mitoses']\n",
    "   \n",
    "dshort = data[features]\n",
    "dshort['breast cell'] = data['breast cell']\n",
    "df = pd.melt(dshort, id_vars = 'breast cell', \\\n",
    "             value_vars = features, value_name = 'value')\n",
    "\n",
    "bins=np.linspace(df.value.min(), df.value.max(), 10)\n",
    "g = sns.FacetGrid(df, col='variable', hue='breast cell', palette=\"Set1\", col_wrap=2)\n",
    "g.map(plt.hist, 'value', bins=bins, ec=\"k\")\n",
    "\n",
    "g.axes[-1].legend()\n",
    "plt.show()"
   ]
  },
  {
   "cell_type": "markdown",
   "metadata": {},
   "source": [
    "The above distribution shows a consistent pattern that the values of different features of a malignant cell are mostly concentrated towards the lower end while the values of a benign cell are distributed more evenly across the range of [1,10]."
   ]
  },
  {
   "cell_type": "code",
   "execution_count": 11,
   "metadata": {},
   "outputs": [
    {
     "data": {
      "image/png": "[encoded data removed]",
      "text/plain": [
       "<Figure size 864x864 with 2 Axes>"
      ]
     },
     "metadata": {
      "needs_background": "light"
     },
     "output_type": "display_data"
    }
   ],
   "source": [
    "# visualize the correlation among features\n",
    "\n",
    "plt.figure(figsize=(12,12))\n",
    "cor = dshort.corr()\n",
    "sns.heatmap(cor, annot=True, cmap=plt.cm.Reds)\n",
    "plt.show()"
   ]
  },
  {
   "cell_type": "markdown",
   "metadata": {},
   "source": [
    "## Step 3: Test different classifier models to classify breast cell as benign vs. malignant"
   ]
  },
  {
   "cell_type": "code",
   "execution_count": 12,
   "metadata": {},
   "outputs": [],
   "source": [
    "# split train/test set and scale features for models\n",
    "\n",
    "X = data[features]\n",
    "Y = data[['malignant']]\n",
    "\n",
    "X_train, X_test, Y_train, Y_test = train_test_split(X, Y, test_size = 0.2, random_state = 0)\n",
    "sc = StandardScaler()\n",
    "X_train = sc.fit_transform(X_train)\n",
    "X_test = sc.transform(X_test)"
   ]
  },
  {
   "cell_type": "code",
   "execution_count": 13,
   "metadata": {},
   "outputs": [],
   "source": [
    "# define a function to try different classification models\n",
    "\n",
    "def models(X_train,Y_train):\n",
    "    \"\"\"function to fit different classifiers\n",
    "    and print model accuracy score on the training data\"\"\"\n",
    "    \n",
    "    log = LogisticRegression(random_state = 0)\n",
    "    log.fit(X_train, Y_train)\n",
    "      \n",
    "    knn = KNeighborsClassifier(n_neighbors = 5, metric = 'minkowski', p = 2)\n",
    "    knn.fit(X_train, Y_train)\n",
    "    \n",
    "    svc_lin = SVC(kernel = 'linear', random_state = 0)\n",
    "    svc_lin.fit(X_train, Y_train)\n",
    "    \n",
    "    svc_rbf = SVC(kernel = 'rbf', random_state = 0)\n",
    "    svc_rbf.fit(X_train, Y_train)\n",
    "    \n",
    "    gauss = GaussianNB()\n",
    "    gauss.fit(X_train, Y_train)\n",
    "    \n",
    "    tree = DecisionTreeClassifier(criterion = 'entropy', random_state = 0)\n",
    "    tree.fit(X_train, Y_train)\n",
    "    \n",
    "    forest = RandomForestClassifier(n_estimators = 10, criterion = 'entropy', random_state = 0)\n",
    "    forest.fit(X_train, Y_train)\n",
    "      \n",
    "    print('[0]Logistic Regression Training Accuracy:', log.score(X_train, Y_train))\n",
    "    print('[1]K Nearest Neighbor Training Accuracy:', knn.score(X_train, Y_train))\n",
    "    print('[2]Support Vector Machine (Linear Classifier) Training Accuracy:', svc_lin.score(X_train, Y_train))\n",
    "    print('[3]Support Vector Machine (RBF Classifier) Training Accuracy:', svc_rbf.score(X_train, Y_train))\n",
    "    print('[4]Gaussian Naive Bayes Training Accuracy:', gauss.score(X_train, Y_train))\n",
    "    print('[5]Decision Tree Classifier Training Accuracy:', tree.score(X_train, Y_train))\n",
    "    print('[6]Random Forest Classifier Training Accuracy:', forest.score(X_train, Y_train))\n",
    "      \n",
    "    return log, knn, svc_lin, svc_rbf, gauss, tree, forest"
   ]
  },
  {
   "cell_type": "code",
   "execution_count": 14,
   "metadata": {},
   "outputs": [
    {
     "name": "stdout",
     "output_type": "stream",
     "text": [
      "[0]Logistic Regression Training Accuracy: 0.9720558882235529\n",
      "[1]K Nearest Neighbor Training Accuracy: 0.9780439121756487\n",
      "[2]Support Vector Machine (Linear Classifier) Training Accuracy: 0.9720558882235529\n",
      "[3]Support Vector Machine (RBF Classifier) Training Accuracy: 0.9780439121756487\n",
      "[4]Gaussian Naive Bayes Training Accuracy: 0.9660678642714571\n",
      "[5]Decision Tree Classifier Training Accuracy: 1.0\n",
      "[6]Random Forest Classifier Training Accuracy: 0.9960079840319361\n"
     ]
    }
   ],
   "source": [
    "model = models(X_train, Y_train)"
   ]
  },
  {
   "cell_type": "code",
   "execution_count": 15,
   "metadata": {},
   "outputs": [
    {
     "name": "stdout",
     "output_type": "stream",
     "text": [
      "Model[0] Confusion Matrix is:\n",
      "[[40  3]\n",
      " [ 2 81]]\n",
      "Model[0] Testing Accuracy = \"0.9603174603174603\"\n",
      "              precision    recall  f1-score   support\n",
      "\n",
      "         0.0       0.95      0.93      0.94        43\n",
      "         1.0       0.96      0.98      0.97        83\n",
      "\n",
      "    accuracy                           0.96       126\n",
      "   macro avg       0.96      0.95      0.96       126\n",
      "weighted avg       0.96      0.96      0.96       126\n",
      "\n",
      "\n",
      "Model[1] Confusion Matrix is:\n",
      "[[39  4]\n",
      " [ 2 81]]\n",
      "Model[1] Testing Accuracy = \"0.9523809523809523\"\n",
      "              precision    recall  f1-score   support\n",
      "\n",
      "         0.0       0.95      0.91      0.93        43\n",
      "         1.0       0.95      0.98      0.96        83\n",
      "\n",
      "    accuracy                           0.95       126\n",
      "   macro avg       0.95      0.94      0.95       126\n",
      "weighted avg       0.95      0.95      0.95       126\n",
      "\n",
      "\n",
      "Model[2] Confusion Matrix is:\n",
      "[[40  3]\n",
      " [ 2 81]]\n",
      "Model[2] Testing Accuracy = \"0.9603174603174603\"\n",
      "              precision    recall  f1-score   support\n",
      "\n",
      "         0.0       0.95      0.93      0.94        43\n",
      "         1.0       0.96      0.98      0.97        83\n",
      "\n",
      "    accuracy                           0.96       126\n",
      "   macro avg       0.96      0.95      0.96       126\n",
      "weighted avg       0.96      0.96      0.96       126\n",
      "\n",
      "\n",
      "Model[3] Confusion Matrix is:\n",
      "[[41  2]\n",
      " [ 3 80]]\n",
      "Model[3] Testing Accuracy = \"0.9603174603174603\"\n",
      "              precision    recall  f1-score   support\n",
      "\n",
      "         0.0       0.93      0.95      0.94        43\n",
      "         1.0       0.98      0.96      0.97        83\n",
      "\n",
      "    accuracy                           0.96       126\n",
      "   macro avg       0.95      0.96      0.96       126\n",
      "weighted avg       0.96      0.96      0.96       126\n",
      "\n",
      "\n",
      "Model[4] Confusion Matrix is:\n",
      "[[42  1]\n",
      " [ 6 77]]\n",
      "Model[4] Testing Accuracy = \"0.9444444444444444\"\n",
      "              precision    recall  f1-score   support\n",
      "\n",
      "         0.0       0.88      0.98      0.92        43\n",
      "         1.0       0.99      0.93      0.96        83\n",
      "\n",
      "    accuracy                           0.94       126\n",
      "   macro avg       0.93      0.95      0.94       126\n",
      "weighted avg       0.95      0.94      0.95       126\n",
      "\n",
      "\n",
      "Model[5] Confusion Matrix is:\n",
      "[[41  2]\n",
      " [ 3 80]]\n",
      "Model[5] Testing Accuracy = \"0.9603174603174603\"\n",
      "              precision    recall  f1-score   support\n",
      "\n",
      "         0.0       0.93      0.95      0.94        43\n",
      "         1.0       0.98      0.96      0.97        83\n",
      "\n",
      "    accuracy                           0.96       126\n",
      "   macro avg       0.95      0.96      0.96       126\n",
      "weighted avg       0.96      0.96      0.96       126\n",
      "\n",
      "\n",
      "Model[6] Confusion Matrix is:\n",
      "[[42  1]\n",
      " [ 2 81]]\n",
      "Model[6] Testing Accuracy = \"0.9761904761904762\"\n",
      "              precision    recall  f1-score   support\n",
      "\n",
      "         0.0       0.95      0.98      0.97        43\n",
      "         1.0       0.99      0.98      0.98        83\n",
      "\n",
      "    accuracy                           0.98       126\n",
      "   macro avg       0.97      0.98      0.97       126\n",
      "weighted avg       0.98      0.98      0.98       126\n",
      "\n",
      "\n"
     ]
    }
   ],
   "source": [
    "# metrics for all models above on the test data\n",
    "\n",
    "for i in range(len(model)):\n",
    "    cm = confusion_matrix(Y_test, model[i].predict(X_test))\n",
    "      \n",
    "    TN = cm[0][0]\n",
    "    TP = cm[1][1]\n",
    "    FN = cm[1][0]\n",
    "    FP = cm[0][1]\n",
    "      \n",
    "    print('Model[{}] Confusion Matrix is:'.format(i))\n",
    "    print(cm)\n",
    "    print('Model[{}] Testing Accuracy = \"{}\"'.format(i, (TP + TN) / (TP + TN + FN + FP)))\n",
    "    print(classification_report(Y_test, model[i].predict(X_test)))\n",
    "    print()"
   ]
  },
  {
   "cell_type": "markdown",
   "metadata": {},
   "source": [
    "Metrics show close performance across different classifiers. Decide to use random forest classifier to move forward because 1) it gives us estimates on feature importances; and 2) it has relatively good performance metric on both the training and test data."
   ]
  },
  {
   "cell_type": "markdown",
   "metadata": {},
   "source": [
    "## Step 4: Use Random Forest Classifier to predict benign vs. malignant breast cells"
   ]
  },
  {
   "cell_type": "code",
   "execution_count": 16,
   "metadata": {},
   "outputs": [
    {
     "name": "stdout",
     "output_type": "stream",
     "text": [
      "[0.10232259 0.21959306 0.09895946 0.05073115 0.24645385 0.06049404\n",
      " 0.18137844 0.02631888 0.01374851]\n"
     ]
    },
    {
     "data": {
      "image/png": "[encoded data removed]",
      "text/plain": [
       "<Figure size 432x288 with 1 Axes>"
      ]
     },
     "metadata": {
      "needs_background": "light"
     },
     "output_type": "display_data"
    }
   ],
   "source": [
    "# fit random forest classifier and visualize feature importances\n",
    "\n",
    "forest = RandomForestClassifier(n_estimators = 10, criterion = 'entropy', random_state = 0)\n",
    "forest.fit(X_train, Y_train)\n",
    "print(forest.feature_importances_)\n",
    "feat_importances = pd.Series(forest.feature_importances_, index=X.columns)\n",
    "feat_importances = feat_importances.sort_values()\n",
    "feat_importances.plot(kind='barh')\n",
    "plt.show()"
   ]
  },
  {
   "cell_type": "code",
   "execution_count": 17,
   "metadata": {},
   "outputs": [
    {
     "name": "stdout",
     "output_type": "stream",
     "text": [
      "[[42  1]\n",
      " [ 2 81]]\n",
      "              precision    recall  f1-score   support\n",
      "\n",
      "         0.0       0.95      0.98      0.97        43\n",
      "         1.0       0.99      0.98      0.98        83\n",
      "\n",
      "    accuracy                           0.98       126\n",
      "   macro avg       0.97      0.98      0.97       126\n",
      "weighted avg       0.98      0.98      0.98       126\n",
      "\n",
      "0.9761904761904762\n",
      "False Positive Rate = \"0.023255813953488372\"\n",
      "False Negative Rate = \"0.024096385542168676\"\n"
     ]
    }
   ],
   "source": [
    "# print out model metrics on test data\n",
    "\n",
    "cm = confusion_matrix(Y_test, forest.predict(X_test))\n",
    "print(cm)\n",
    "print(classification_report(Y_test, forest.predict(X_test)))\n",
    "print(accuracy_score(Y_test, forest.predict(X_test)))\n",
    "\n",
    "TN = cm[0][0]\n",
    "TP = cm[1][1]\n",
    "FN = cm[1][0]\n",
    "FP = cm[0][1]\n",
    "FPR = FP / (FP + TN)\n",
    "FNR = FN / (FN + TP)\n",
    "print('False Positive Rate = \"{}\"'.format(FPR))\n",
    "print('False Negative Rate = \"{}\"'.format(FNR))"
   ]
  },
  {
   "cell_type": "code",
   "execution_count": 18,
   "metadata": {},
   "outputs": [
    {
     "data": {
      "text/html": [
       "<div>\n",
       "<style scoped>\n",
       "    .dataframe tbody tr th:only-of-type {\n",
       "        vertical-align: middle;\n",
       "    }\n",
       "\n",
       "    .dataframe tbody tr th {\n",
       "        vertical-align: top;\n",
       "    }\n",
       "\n",
       "    .dataframe thead th {\n",
       "        text-align: right;\n",
       "    }\n",
       "</style>\n",
       "<table border=\"1\" class=\"dataframe\">\n",
       "  <thead>\n",
       "    <tr style=\"text-align: right;\">\n",
       "      <th></th>\n",
       "      <th>removed feature</th>\n",
       "      <th>FPR</th>\n",
       "      <th>FNR</th>\n",
       "    </tr>\n",
       "  </thead>\n",
       "  <tbody>\n",
       "    <tr>\n",
       "      <td>0</td>\n",
       "      <td>Clump Thickness</td>\n",
       "      <td>0.046512</td>\n",
       "      <td>0.024096</td>\n",
       "    </tr>\n",
       "    <tr>\n",
       "      <td>1</td>\n",
       "      <td>Uniformity of Cell Shape</td>\n",
       "      <td>0.023256</td>\n",
       "      <td>0.024096</td>\n",
       "    </tr>\n",
       "    <tr>\n",
       "      <td>2</td>\n",
       "      <td>Uniformity of Cell Size</td>\n",
       "      <td>0.023256</td>\n",
       "      <td>0.036145</td>\n",
       "    </tr>\n",
       "    <tr>\n",
       "      <td>3</td>\n",
       "      <td>Marginal Adhesion</td>\n",
       "      <td>0.000000</td>\n",
       "      <td>0.024096</td>\n",
       "    </tr>\n",
       "    <tr>\n",
       "      <td>4</td>\n",
       "      <td>Single Epithelial Cell Size</td>\n",
       "      <td>0.023256</td>\n",
       "      <td>0.024096</td>\n",
       "    </tr>\n",
       "    <tr>\n",
       "      <td>5</td>\n",
       "      <td>Bare Nuclei</td>\n",
       "      <td>0.000000</td>\n",
       "      <td>0.036145</td>\n",
       "    </tr>\n",
       "    <tr>\n",
       "      <td>6</td>\n",
       "      <td>Bland Chromatin</td>\n",
       "      <td>0.046512</td>\n",
       "      <td>0.036145</td>\n",
       "    </tr>\n",
       "    <tr>\n",
       "      <td>7</td>\n",
       "      <td>Normal Nucleoli</td>\n",
       "      <td>0.046512</td>\n",
       "      <td>0.024096</td>\n",
       "    </tr>\n",
       "    <tr>\n",
       "      <td>8</td>\n",
       "      <td>Mitoses</td>\n",
       "      <td>0.000000</td>\n",
       "      <td>0.012048</td>\n",
       "    </tr>\n",
       "  </tbody>\n",
       "</table>\n",
       "</div>"
      ],
      "text/plain": [
       "               removed feature       FPR       FNR\n",
       "0              Clump Thickness  0.046512  0.024096\n",
       "1     Uniformity of Cell Shape  0.023256  0.024096\n",
       "2      Uniformity of Cell Size  0.023256  0.036145\n",
       "3            Marginal Adhesion  0.000000  0.024096\n",
       "4  Single Epithelial Cell Size  0.023256  0.024096\n",
       "5                  Bare Nuclei  0.000000  0.036145\n",
       "6              Bland Chromatin  0.046512  0.036145\n",
       "7              Normal Nucleoli  0.046512  0.024096\n",
       "8                      Mitoses  0.000000  0.012048"
      ]
     },
     "execution_count": 18,
     "metadata": {},
     "output_type": "execute_result"
    }
   ],
   "source": [
    "# test out how each feature contributes to False Positive Rate (FPR) and False Negative Rate (FNR)\n",
    "\n",
    "FPR_list = []\n",
    "FNR_list = []\n",
    "removed_list = []\n",
    "\n",
    "for i in range(len(features)):\n",
    "    new_features = features[:]\n",
    "    removed_list.append(new_features[i])\n",
    "    new_features.remove(new_features[i])\n",
    "    \n",
    "    X = data[new_features]\n",
    "    Y = data[['malignant']]\n",
    "\n",
    "    X_train, X_test, Y_train, Y_test = train_test_split(X, Y, test_size = 0.2,\\\n",
    "                                                    random_state = 0)\n",
    "    sc = StandardScaler()\n",
    "    X_train = sc.fit_transform(X_train)\n",
    "    X_test = sc.transform(X_test)\n",
    "    forest = RandomForestClassifier(n_estimators = 10, criterion = 'entropy', random_state = 0)\n",
    "    forest.fit(X_train, Y_train)\n",
    "    cm = confusion_matrix(Y_test, forest.predict(X_test))      \n",
    "    TN = cm[0][0]\n",
    "    TP = cm[1][1]\n",
    "    FN = cm[1][0]\n",
    "    FP = cm[0][1]\n",
    "    FPR = FP / (FP + TN)\n",
    "    FNR = FN / (FN + TP)\n",
    "    FPR_list.append(FPR)\n",
    "    FNR_list.append(FNR)\n",
    "\n",
    "result = pd.DataFrame(columns = ['removed feature', 'FPR', 'FNR'])\n",
    "result['removed feature'] = removed_list\n",
    "result['FPR'] = FPR_list\n",
    "result['FNR'] = FNR_list\n",
    "result"
   ]
  },
  {
   "cell_type": "markdown",
   "metadata": {},
   "source": [
    "## Conclusion"
   ]
  },
  {
   "cell_type": "markdown",
   "metadata": {},
   "source": [
    "The following answers from the data challenge descriptions can be concluded from the above analyses.\n",
    "\n",
    "1. What features of a cell are the largest drivers of malignancy? \n",
    "-Single epithelial cell size.\n",
    "\n",
    "2. What features drive your false positive rate for your model you derived above, what features drive your false negative rate? \n",
    "-Clump thickness, bland chromatin, and normal nucleoli are the three features driving the false positive rate.\n",
    "-Uniformity of cell size, bare nuclei, and bland chromatin are the three features driving the false negative rate.\n",
    "\n",
    "3. How would a physician use your product?\n",
    "-My product builds a well-performing classfier model that when you input the key features of a breast cell, it gives you an over 97% accurate prediction on whether this cell is malignant or benign. It saves physicians time and effort trying to manually make predictions on breast cancer.\n",
    "\n",
    "4. There is a non-zero cost in time and money to collect each feature about a given cell. How would you go about determining the most cost-effective method of detecting malignancy?\n",
    "-Given the feature importance as well as different key features driving the false positive rate and false negative rate in breast cancer detection, I would recommend to at least keep collecting data on the following 3 features about a given cell: Single epithelial cell size, uniformity of cell size, and bland chromatin."
   ]
  }
 ],
 "metadata": {
  "kernelspec": {
   "display_name": "Python 3",
   "language": "python",
   "name": "python3"
  },
  "language_info": {
   "codemirror_mode": {
    "name": "ipython",
    "version": 3
   },
   "file_extension": ".py",
   "mimetype": "text/x-python",
   "name": "python",
   "nbconvert_exporter": "python",
   "pygments_lexer": "ipython3",
   "version": "3.7.4"
  }
 },
 "nbformat": 4,
 "nbformat_minor": 2
}
